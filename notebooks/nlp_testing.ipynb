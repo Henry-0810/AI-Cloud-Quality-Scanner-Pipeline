{
 "cells": [
  {
   "cell_type": "markdown",
   "id": "e974e23e",
   "metadata": {},
   "source": [
    "#### Load Python Files + Extract Comments"
   ]
  },
  {
   "cell_type": "code",
   "execution_count": null,
   "id": "73a686d0",
   "metadata": {},
   "outputs": [],
   "source": [
    "# 📦 Step 1: Imports and Setup\n",
    "import os\n",
    "from openai import OpenAI\n",
    "import json\n",
    "\n",
    "client = OpenAI(api_key=\"your_api_key_here\")\n",
    "# File paths\n",
    "TARGET_FILE = \"../data/3-comments-nlp/benchmark_comments.py\"\n",
    "OUTPUT_FILE = \"nlp-results.json\""
   ]
  },
  {
   "cell_type": "code",
   "execution_count": 16,
   "id": "2643cad0",
   "metadata": {},
   "outputs": [],
   "source": [
    "# 🧠 Step 2: Prompt Template Builder\n",
    "def build_prompt(comment, code_context):\n",
    "    return f\"\"\"\n",
    "You are a senior code reviewer focused on comment clarity and effectiveness.\n",
    "Given the following Python comment and its surrounding code, evaluate the comment quality.\n",
    "\n",
    "Code:\n",
    "{code_context}\n",
    "\n",
    "Comment:\n",
    "{comment}\n",
    "\n",
    "Tasks:\n",
    "1. Classify the comment as 'good' or 'bad'\n",
    "2. Explain why it's good or bad\n",
    "3. Provide a minimalist suggestion (not the solution, just how to improve it)\n",
    "\n",
    "Return your answer in this format:\n",
    "classification: <good|bad>\n",
    "why: <reason>\n",
    "suggestion: <1-sentence minimalist improvement>\n",
    "\"\"\""
   ]
  },
  {
   "cell_type": "code",
   "execution_count": 18,
   "id": "7e508c91",
   "metadata": {},
   "outputs": [
    {
     "name": "stdout",
     "output_type": "stream",
     "text": [
      "Found 10 comments to analyze.\n"
     ]
    }
   ],
   "source": [
    "# 🔍 Step 3: Read the File and Extract Comments\n",
    "with open(TARGET_FILE, \"r\") as f:\n",
    "    lines = f.readlines()\n",
    "\n",
    "comment_lines = []\n",
    "window_size = 5\n",
    "\n",
    "for idx, line in enumerate(lines):\n",
    "    stripped = line.strip()\n",
    "    if stripped.startswith(\"#\") and not stripped.startswith(\"###\"):\n",
    "        comment = stripped\n",
    "        start = max(0, idx - 2)\n",
    "        end = min(len(lines), idx + 3)\n",
    "        context = \"\".join(lines[start:end])\n",
    "        comment_lines.append((idx + 1, comment, context))\n",
    "\n",
    "print(f\"Found {len(comment_lines)} comments to analyze.\")"
   ]
  },
  {
   "cell_type": "code",
   "execution_count": 22,
   "id": "b62e7944",
   "metadata": {},
   "outputs": [
    {
     "name": "stdout",
     "output_type": "stream",
     "text": [
      "ℹ️  Line 3: classified as good, skipping.\n",
      "✅ Line 9: bad → Provide a brief description of the specific action or purpose of the code following the comment.\n",
      "✅ Line 14: bad → Add a brief description of what the loop is doing, such as \"Doubling each element in the data list.\"\n",
      "✅ Line 18: bad → Provide a more descriptive comment such as \"Return the data for verification.\"\n",
      "✅ Line 24: bad → Add a brief description of the purpose or method used to hash the password, such as \"Using SHA-256 for password hashing\".\n",
      "✅ Line 30: bad → Add a more descriptive comment explaining how the user input is being validated.\n",
      "✅ Line 38: bad → Add a brief description of what kind of data is being sent or how it is being sent to Kafka.\n",
      "✅ Line 44: bad → Add a brief description of what is being retrieved or why the 'get' operation is being performed.\n",
      "✅ Line 52: bad → Add a brief explanation of why the variable is being initialized or what its purpose is in the code.\n",
      "✅ Line 55: bad → Specify the sorting algorithm used or provide an example input/output to give more context.\n"
     ]
    }
   ],
   "source": [
    "# Step 4: Send to OpenAI and Collect Results\n",
    "results = []\n",
    "\n",
    "for line_num, comment, context in comment_lines:\n",
    "    prompt = build_prompt(comment, context)\n",
    "\n",
    "    try:\n",
    "        response = client.chat.completions.create(\n",
    "            model=\"gpt-3.5-turbo\",\n",
    "            messages=[{\"role\": \"user\", \"content\": prompt}],\n",
    "            temperature=0.2,\n",
    "        )\n",
    "        # use attribute access on the ChatCompletionMessage object\n",
    "        content = response.choices[0].message.content\n",
    "        lines_out = content.strip().splitlines()\n",
    "\n",
    "        classification = lines_out[0].split(\":\", 1)[1].strip()\n",
    "        reason = lines_out[1].split(\":\", 1)[1].strip()\n",
    "        suggestion = lines_out[2].split(\":\", 1)[1].strip()\n",
    "\n",
    "        if classification == \"bad\":\n",
    "            results.append({\n",
    "                \"file\": TARGET_FILE,\n",
    "                \"line\": line_num,\n",
    "                \"comment\": comment,\n",
    "                \"quality\": classification,\n",
    "                \"why\": reason,\n",
    "                \"suggestion\": suggestion\n",
    "            })\n",
    "            print(f\"✅ Line {line_num}: {classification} → {suggestion}\")\n",
    "        else:\n",
    "            print(f\"ℹ️  Line {line_num}: classified as good, skipping.\")\n",
    "\n",
    "    except Exception as e:\n",
    "        print(f\"❌ Error on line {line_num}: {e}\")"
   ]
  },
  {
   "cell_type": "code",
   "execution_count": null,
   "id": "6471d160",
   "metadata": {},
   "outputs": [
    {
     "name": "stdout",
     "output_type": "stream",
     "text": [
      "📄 NLP results saved to nlp-results.json\n"
     ]
    }
   ],
   "source": [
    "# 💾 Step 5: Save to JSON\n",
    "with open(OUTPUT_FILE, \"w\") as f:\n",
    "    json.dump(results, f, indent=2)\n",
    "\n",
    "print(f\"📄 NLP results saved to {OUTPUT_FILE}\")"
   ]
  }
 ],
 "metadata": {
  "kernelspec": {
   "display_name": "rest-api-RbKg_E8a-py3.12",
   "language": "python",
   "name": "python3"
  },
  "language_info": {
   "codemirror_mode": {
    "name": "ipython",
    "version": 3
   },
   "file_extension": ".py",
   "mimetype": "text/x-python",
   "name": "python",
   "nbconvert_exporter": "python",
   "pygments_lexer": "ipython3",
   "version": "3.12.7"
  }
 },
 "nbformat": 4,
 "nbformat_minor": 5
}
