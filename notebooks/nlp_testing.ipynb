{
 "cells": [
  {
   "cell_type": "markdown",
   "id": "e974e23e",
   "metadata": {},
   "source": [
    "#### Load Python Files + Extract Comments"
   ]
  },
  {
   "cell_type": "code",
   "execution_count": 1,
   "id": "73a686d0",
   "metadata": {},
   "outputs": [
    {
     "name": "stdout",
     "output_type": "stream",
     "text": [
      "Extracted 4 comments\n"
     ]
    },
    {
     "data": {
      "text/plain": [
       "[{'file': 'email_validator.py', 'line': 6, 'comment': '# good email regex'},\n",
       " {'file': 'email_validator.py', 'line': 12, 'comment': '# Check email'},\n",
       " {'file': 'email_validator.py', 'line': 16, 'comment': '# validate'}]"
      ]
     },
     "execution_count": 1,
     "metadata": {},
     "output_type": "execute_result"
    }
   ],
   "source": [
    "import os\n",
    "from pathlib import Path\n",
    "\n",
    "\n",
    "def extract_comments_from_py(path):\n",
    "    comments = []\n",
    "    for file in Path(path).rglob(\"*.py\"):\n",
    "        with open(file, \"r\", encoding=\"utf-8\") as f:\n",
    "            for i, line in enumerate(f.readlines(), 1):\n",
    "                line = line.strip()\n",
    "                if line.startswith(\"#\") and len(line) > 1:\n",
    "                    comments.append({\n",
    "                        \"file\": str(file.relative_to(path)),\n",
    "                        \"line\": i,\n",
    "                        \"comment\": line\n",
    "                    })\n",
    "    return comments\n",
    "\n",
    "\n",
    "comments = extract_comments_from_py(\"../data/3-comments-nlp/bad_comments\")\n",
    "print(f\"Extracted {len(comments)} comments\")\n",
    "comments[:3]"
   ]
  },
  {
   "cell_type": "markdown",
   "id": "a2fdaf26",
   "metadata": {},
   "source": [
    "#### Classify Comments Using a Pre-Trained NLP Model"
   ]
  },
  {
   "cell_type": "code",
   "execution_count": 2,
   "id": "fdbc7925",
   "metadata": {},
   "outputs": [
    {
     "data": {
      "application/vnd.jupyter.widget-view+json": {
       "model_id": "4df604327fdc42cc84dc4595fa64b5c1",
       "version_major": 2,
       "version_minor": 0
      },
      "text/plain": [
       "pytorch_model.bin:   0%|          | 0.00/51.0M [00:00<?, ?B/s]"
      ]
     },
     "metadata": {},
     "output_type": "display_data"
    },
    {
     "name": "stderr",
     "output_type": "stream",
     "text": [
      "Some weights of BertForSequenceClassification were not initialized from the model checkpoint at microsoft/xtremedistil-l6-h256-uncased and are newly initialized: ['classifier.bias', 'classifier.weight']\n",
      "You should probably TRAIN this model on a down-stream task to be able to use it for predictions and inference.\n"
     ]
    },
    {
     "data": {
      "application/vnd.jupyter.widget-view+json": {
       "model_id": "992e9aa9869444edaa42b0d9be0f33fe",
       "version_major": 2,
       "version_minor": 0
      },
      "text/plain": [
       "vocab.txt:   0%|          | 0.00/232k [00:00<?, ?B/s]"
      ]
     },
     "metadata": {},
     "output_type": "display_data"
    },
    {
     "name": "stderr",
     "output_type": "stream",
     "text": [
      "Device set to use cpu\n"
     ]
    },
    {
     "data": {
      "application/vnd.jupyter.widget-view+json": {
       "model_id": "e338e0799d8141deb8e86471ba78a88c",
       "version_major": 2,
       "version_minor": 0
      },
      "text/plain": [
       "model.safetensors:   0%|          | 0.00/51.0M [00:00<?, ?B/s]"
      ]
     },
     "metadata": {},
     "output_type": "display_data"
    },
    {
     "data": {
      "text/plain": [
       "[]"
      ]
     },
     "execution_count": 2,
     "metadata": {},
     "output_type": "execute_result"
    }
   ],
   "source": [
    "from transformers import pipeline\n",
    "\n",
    "# Load sentiment or zero-shot classifier (choose best for comment quality)\n",
    "classifier = pipeline(\"text-classification\",\n",
    "                      model=\"microsoft/xtremedistil-l6-h256-uncased\")\n",
    "\n",
    "\n",
    "def classify_comment(text):\n",
    "    result = classifier(text)[0]\n",
    "    return result[\"label\"], result[\"score\"]\n",
    "\n",
    "\n",
    "for comment in comments:\n",
    "    label, score = classify_comment(comment[\"comment\"])\n",
    "    comment[\"quality\"] = \"bad\" if label.lower() in [\"negative\", \"vague\",\n",
    "                                                    \"irrelevant\"] else \"good\"\n",
    "    comment[\"score\"] = score\n",
    "\n",
    "# Filter only bad comments\n",
    "bad_comments = [c for c in comments if c[\"quality\"] == \"bad\"]\n",
    "bad_comments[:3]"
   ]
  },
  {
   "cell_type": "markdown",
   "id": "4adb2d83",
   "metadata": {},
   "source": [
    "#### Use OpenAI API to Get Minimalist Fix Suggestions"
   ]
  },
  {
   "cell_type": "code",
   "execution_count": null,
   "id": "bcdedb16",
   "metadata": {},
   "outputs": [],
   "source": [
    "import openai\n",
    "import os\n",
    "\n",
    "openai.api_key = os.getenv(\"OPENAI_API_KEY\")  # store your key in your env vars\n",
    "\n",
    "\n",
    "def suggest_fix(comment):\n",
    "    prompt = f\"The following code comment is vague or bad:\\n\\n\\\"{comment}\\\"\\n\\nIn one sentence, explain how to improve it (do not rewrite the comment):\"\n",
    "\n",
    "    response = openai.ChatCompletion.create(\n",
    "        model=\"gpt-3.5-turbo\",\n",
    "        messages=[\n",
    "            {\"role\": \"user\", \"content\": prompt}\n",
    "        ],\n",
    "        max_tokens=60,\n",
    "        temperature=0.3\n",
    "    )\n",
    "    return response[\"choices\"][0][\"message\"][\"content\"]\n",
    "\n",
    "\n",
    "# Add suggestions to each bad comment\n",
    "for c in bad_comments:\n",
    "    c[\"why\"] = \"Automatically classified as vague or unclear.\"\n",
    "    c[\"suggestion\"] = suggest_fix(c[\"comment\"])\n",
    "\n",
    "bad_comments[:3]"
   ]
  },
  {
   "cell_type": "markdown",
   "id": "56422d31",
   "metadata": {},
   "source": [
    "#### Export as JSON for Later Use"
   ]
  },
  {
   "cell_type": "code",
   "execution_count": null,
   "id": "d4bfdbda",
   "metadata": {},
   "outputs": [],
   "source": [
    "import json\n",
    "\n",
    "with open(\"nlp-results.json\", \"w\") as f:\n",
    "    json.dump(bad_comments, f, indent=2)"
   ]
  }
 ],
 "metadata": {
  "kernelspec": {
   "display_name": "rest-api-RbKg_E8a-py3.12",
   "language": "python",
   "name": "python3"
  },
  "language_info": {
   "codemirror_mode": {
    "name": "ipython",
    "version": 3
   },
   "file_extension": ".py",
   "mimetype": "text/x-python",
   "name": "python",
   "nbconvert_exporter": "python",
   "pygments_lexer": "ipython3",
   "version": "3.12.7"
  }
 },
 "nbformat": 4,
 "nbformat_minor": 5
}
